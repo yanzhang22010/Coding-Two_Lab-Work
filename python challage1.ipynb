{
 "cells": [
  {
   "cell_type": "code",
   "execution_count": 9,
   "id": "cba94e83",
   "metadata": {},
   "outputs": [
    {
     "name": "stdout",
     "output_type": "stream",
     "text": [
      "W\n"
     ]
    }
   ],
   "source": [
    "# Given the lengths a, b and c of a triangle, determine the shape of the triangle. If it is an acute triangle, output R, if it is a right triangle, output Z, if it is an obtuse triangle, output D, if the lengths of the three sides cannot form a triangle, output W.\n",
    "a,b,c=2,3,5;\n",
    "x,y,z=sorted([a,b,c])\n",
    "if (x+y>z)&(z-x<y)&(z-y<x)&(x>0):\n",
    "    if x**2+y**2==z**2:\n",
    "         print(\"Z\")\n",
    "    elif x**2+y**2<z**2:\n",
    "         print(\"D\")\n",
    "    else:\n",
    "         print(\"R\")\n",
    "else:\n",
    "     print(\"W\")"
   ]
  },
  {
   "cell_type": "code",
   "execution_count": 11,
   "id": "93663a1f",
   "metadata": {},
   "outputs": [
    {
     "name": "stdout",
     "output_type": "stream",
     "text": [
      "R\n"
     ]
    }
   ],
   "source": [
    "a,b,c=10,20,20;\n",
    "x,y,z=sorted([a,b,c])\n",
    "if (x+y>z)&(z-x<y)&(z-y<x)&(x>0):\n",
    "    if x**2+y**2==z**2:\n",
    "         print(\"Z\")\n",
    "    elif x**2+y**2<z**2:\n",
    "         print(\"D\")\n",
    "    else:\n",
    "         print(\"R\")\n",
    "else:\n",
    "     print(\"W\")"
   ]
  },
  {
   "cell_type": "code",
   "execution_count": 12,
   "id": "045b4d54",
   "metadata": {},
   "outputs": [
    {
     "name": "stdout",
     "output_type": "stream",
     "text": [
      "R\n"
     ]
    }
   ],
   "source": [
    "a,b,c=100,300,300;\n",
    "x,y,z=sorted([a,b,c])\n",
    "if (x+y>z)&(z-x<y)&(z-y<x)&(x>0):\n",
    "    if x**2+y**2==z**2:\n",
    "         print(\"Z\")\n",
    "    elif x**2+y**2<z**2:\n",
    "         print(\"D\")\n",
    "    else:\n",
    "         print(\"R\")\n",
    "else:\n",
    "     print(\"W\")"
   ]
  },
  {
   "cell_type": "code",
   "execution_count": 13,
   "id": "f616b81c",
   "metadata": {},
   "outputs": [
    {
     "name": "stdout",
     "output_type": "stream",
     "text": [
      "W\n"
     ]
    }
   ],
   "source": [
    "a,b,c=500,300,100;\n",
    "x,y,z=sorted([a,b,c])\n",
    "if (x+y>z)&(z-x<y)&(z-y<x)&(x>0):\n",
    "    if x**2+y**2==z**2:\n",
    "         print(\"Z\")\n",
    "    elif x**2+y**2<z**2:\n",
    "         print(\"D\")\n",
    "    else:\n",
    "         print(\"R\")\n",
    "else:\n",
    "     print(\"W\")"
   ]
  },
  {
   "cell_type": "code",
   "execution_count": 18,
   "id": "0b34601d",
   "metadata": {},
   "outputs": [
    {
     "name": "stdout",
     "output_type": "stream",
     "text": [
      "W\n"
     ]
    }
   ],
   "source": [
    "a,b,c=300,100,100;\n",
    "x,y,z=sorted([a,b,c])\n",
    "if (x+y>z)&(z-x<y)&(z-y<x)&(x>0):\n",
    "    if x**2+y**2==z**2:\n",
    "         print(\"Z\")\n",
    "    elif x**2+y**2<z**2:\n",
    "         print(\"D\")\n",
    "    else:\n",
    "         print(\"R\")\n",
    "else:\n",
    "     print(\"W\")"
   ]
  },
  {
   "cell_type": "code",
   "execution_count": null,
   "id": "2fe3adb4",
   "metadata": {},
   "outputs": [],
   "source": []
  }
 ],
 "metadata": {
  "kernelspec": {
   "display_name": "Python 3 (ipykernel)",
   "language": "python",
   "name": "python3"
  },
  "language_info": {
   "codemirror_mode": {
    "name": "ipython",
    "version": 3
   },
   "file_extension": ".py",
   "mimetype": "text/x-python",
   "name": "python",
   "nbconvert_exporter": "python",
   "pygments_lexer": "ipython3",
   "version": "3.9.16"
  }
 },
 "nbformat": 4,
 "nbformat_minor": 5
}
